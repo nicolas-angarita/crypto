{
 "cells": [
  {
   "cell_type": "code",
   "execution_count": null,
   "id": "c77a52de",
   "metadata": {},
   "outputs": [],
   "source": [
    "import requests\n",
    "import json\n",
    "\n",
    "import pandas as pd\n",
    "import time\n",
    "\n",
    "import acquire as a"
   ]
  },
  {
   "cell_type": "code",
   "execution_count": null,
   "id": "23379c16",
   "metadata": {},
   "outputs": [],
   "source": [
    "# Define the cryptocurrencies you are analyzing \n",
    "cryptos = ['cardano', 'ethereum', 'polkadot', 'kusama', 'gnosis', 'status', 'cosmos', 'solana', 'celo',\n",
    "           'ark', 'decentraland', 'chainlink', 'iota', 'blockstack', 'maker', 'havven', 'eos', 'bitcoin',\n",
    "           'skale', 'lisk', 'ripple', 'litecoin', 'bitcoin-cash', 'stellar', 'bitcoin-cash-sv', 'monero', 'tron', \n",
    "           'nem', 'tezos', 'filecoin', 'leo-token', 'crypto-com-chain', 'neo', 'hedera-hashgraph', 'aptos', 'vega-protocol', \n",
    "           'internet-computer', 'avalanche-2', 'sui', 'optimism', 'near', 'audius']"
   ]
  },
  {
   "cell_type": "code",
   "execution_count": null,
   "id": "050f40b0",
   "metadata": {},
   "outputs": [],
   "source": [
    "dev_df = a.developer_data_date(cryptos, 'test_example_dev')\n",
    "c19_df = a.c19_data_date(cryptos, 'test_example_c19')\n",
    "current_df = a.current_crypto_data(cryptos, 'test_example_current')"
   ]
  },
  {
   "cell_type": "code",
   "execution_count": null,
   "id": "1f130f9e",
   "metadata": {},
   "outputs": [],
   "source": [
    "dev_df"
   ]
  },
  {
   "cell_type": "code",
   "execution_count": null,
   "id": "968c8287",
   "metadata": {},
   "outputs": [],
   "source": [
    "c19_df "
   ]
  },
  {
   "cell_type": "code",
   "execution_count": null,
   "id": "7a072854",
   "metadata": {},
   "outputs": [],
   "source": [
    "current_df"
   ]
  },
  {
   "cell_type": "markdown",
   "id": "333f4863",
   "metadata": {},
   "source": [
    "### Prepare stage\n",
    "\n",
    "- combine the dfs\n",
    "- edit columns (fix Nans, symbols, rounding numbers, etc.)\n",
    "- make different df for top MC / top developer \n",
    "- create a column for percent gains from 2020\n",
    "- potential retraces from current price columns (.5, .618, .702, .786, etc)"
   ]
  },
  {
   "cell_type": "code",
   "execution_count": null,
   "id": "cd2aca75",
   "metadata": {},
   "outputs": [],
   "source": []
  }
 ],
 "metadata": {
  "kernelspec": {
   "display_name": "Python 3 (ipykernel)",
   "language": "python",
   "name": "python3"
  },
  "language_info": {
   "codemirror_mode": {
    "name": "ipython",
    "version": 3
   },
   "file_extension": ".py",
   "mimetype": "text/x-python",
   "name": "python",
   "nbconvert_exporter": "python",
   "pygments_lexer": "ipython3",
   "version": "3.9.13"
  }
 },
 "nbformat": 4,
 "nbformat_minor": 5
}
